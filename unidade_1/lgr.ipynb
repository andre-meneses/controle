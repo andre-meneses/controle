{
 "cells": [
  {
   "cell_type": "markdown",
   "id": "3198b8e8-5ab9-4f8f-b0e2-2c375c6180e3",
   "metadata": {},
   "source": [
    "# Lugar geométrico das raízes - Sistemas de Controle"
   ]
  },
  {
   "cell_type": "code",
   "execution_count": null,
   "id": "70315237-004a-4d9a-8501-c8c87e8b3987",
   "metadata": {},
   "outputs": [],
   "source": []
  }
 ],
 "metadata": {
  "kernelspec": {
   "display_name": "Julia 1.10.2",
   "language": "julia",
   "name": "julia-1.10"
  },
  "language_info": {
   "file_extension": ".jl",
   "mimetype": "application/julia",
   "name": "julia",
   "version": "1.10.2"
  }
 },
 "nbformat": 4,
 "nbformat_minor": 5
}
