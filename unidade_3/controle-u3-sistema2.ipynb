{
 "cells": [
  {
   "cell_type": "code",
   "execution_count": 1,
   "id": "f07d422e-009f-455b-af4c-1ceff19eb5a5",
   "metadata": {},
   "outputs": [],
   "source": [
    "import sympy \n",
    "from sympy import I"
   ]
  },
  {
   "cell_type": "code",
   "execution_count": 2,
   "id": "e3a9d319-09a1-4cae-9ac8-e3651e9de26a",
   "metadata": {},
   "outputs": [],
   "source": [
    "s = sympy.symbols('s')"
   ]
  },
  {
   "cell_type": "code",
   "execution_count": 3,
   "id": "50c7a713-d1e4-4b6f-b2e2-e165e9d189ba",
   "metadata": {},
   "outputs": [],
   "source": [
    "A = sympy.Matrix([[-5, 1, 0], [2,7,-1], [0, -3, 6]])\n",
    "B = sympy.Matrix([[0],[0],[1]])\n",
    "C = sympy.Matrix([[1, -2, 3]])"
   ]
  },
  {
   "cell_type": "code",
   "execution_count": 4,
   "id": "5f25c0cd-3fbd-4a20-afee-9606a500deb9",
   "metadata": {},
   "outputs": [
    {
     "name": "stdout",
     "output_type": "stream",
     "text": [
      "Characteristic polynomial of the matrix A is: s**3 - 8*s**2 - 28*s + 207\n"
     ]
    }
   ],
   "source": [
    "char_poly = A.charpoly(s)\n",
    "\n",
    "# Get the polynomial in expanded form\n",
    "char_poly_expr = char_poly.as_expr()\n",
    "\n",
    "print(f\"Characteristic polynomial of the matrix A is: {char_poly_expr}\")"
   ]
  },
  {
   "cell_type": "code",
   "execution_count": 5,
   "id": "c7e2d13f-142e-45f3-8c95-44ae78158a03",
   "metadata": {},
   "outputs": [
    {
     "name": "stdout",
     "output_type": "stream",
     "text": [
      "Eigenvalues of the matrix A are: [(-5.16807496502935 - 0.e-22*I, 1), (8.39951290420462 - 0.e-22*I, 1), (4.76856206082473 + 0.e-22*I, 1)]\n"
     ]
    }
   ],
   "source": [
    "#eigenvalues = A.eigenvals()\n",
    "eigenvalues = [(eig.evalf(), multiplicity) for eig, multiplicity in A.eigenvals().items()]\n",
    "\n",
    "print(\"Eigenvalues of the matrix A are:\", eigenvalues)"
   ]
  },
  {
   "cell_type": "code",
   "execution_count": 6,
   "id": "8b4c84bc-318d-4366-8718-04bc7dfb5f9d",
   "metadata": {},
   "outputs": [
    {
     "data": {
      "text/latex": [
       "$\\displaystyle \\left[\\begin{matrix}0 & 0 & -1\\\\0 & -1 & -13\\\\1 & 6 & 39\\end{matrix}\\right]$"
      ],
      "text/plain": [
       "Matrix([\n",
       "[0,  0,  -1],\n",
       "[0, -1, -13],\n",
       "[1,  6,  39]])"
      ]
     },
     "execution_count": 6,
     "metadata": {},
     "output_type": "execute_result"
    }
   ],
   "source": [
    "U = sympy.Matrix.hstack(B, A*B, A**2*B)\n",
    "U\n"
   ]
  },
  {
   "cell_type": "code",
   "execution_count": 7,
   "id": "a8ea5ad1-1193-47c7-8490-67af16c90e4b",
   "metadata": {},
   "outputs": [
    {
     "data": {
      "text/plain": [
       "3"
      ]
     },
     "execution_count": 7,
     "metadata": {},
     "output_type": "execute_result"
    }
   ],
   "source": [
    "U.rank()"
   ]
  },
  {
   "cell_type": "code",
   "execution_count": 8,
   "id": "e782930d-a0b2-4e5f-a890-1616ccbc75d9",
   "metadata": {},
   "outputs": [
    {
     "data": {
      "text/latex": [
       "$\\displaystyle \\left[\\begin{matrix}1 & -2 & 3\\\\-9 & -22 & 20\\\\1 & -223 & 142\\end{matrix}\\right]$"
      ],
      "text/plain": [
       "Matrix([\n",
       "[ 1,   -2,   3],\n",
       "[-9,  -22,  20],\n",
       "[ 1, -223, 142]])"
      ]
     },
     "execution_count": 8,
     "metadata": {},
     "output_type": "execute_result"
    }
   ],
   "source": [
    "V = sympy.Matrix.vstack(C, C*A, C*A**2)\n",
    "V"
   ]
  },
  {
   "cell_type": "code",
   "execution_count": 9,
   "id": "eea58687-fc2e-4677-88bc-d6180f92708b",
   "metadata": {},
   "outputs": [
    {
     "data": {
      "text/plain": [
       "3"
      ]
     },
     "execution_count": 9,
     "metadata": {},
     "output_type": "execute_result"
    }
   ],
   "source": [
    "V.rank()"
   ]
  },
  {
   "cell_type": "markdown",
   "id": "58e57478-97c2-43ea-9dd2-909f9a6fbea2",
   "metadata": {},
   "source": [
    "### Realimentação de estados"
   ]
  },
  {
   "cell_type": "code",
   "execution_count": 10,
   "id": "3f38bcef-c48c-4ea1-a29f-939923c10691",
   "metadata": {},
   "outputs": [],
   "source": [
    "Polo1 = -2 + I\n",
    "Polo2 = -2 - I\n",
    "Polo3 = -10"
   ]
  },
  {
   "cell_type": "code",
   "execution_count": 11,
   "id": "f57ce52c-9549-418e-be89-947dd592cb14",
   "metadata": {},
   "outputs": [
    {
     "data": {
      "text/latex": [
       "$\\displaystyle s^{3} + 14 s^{2} + 45 s + 50$"
      ],
      "text/plain": [
       "s**3 + 14*s**2 + 45*s + 50"
      ]
     },
     "execution_count": 11,
     "metadata": {},
     "output_type": "execute_result"
    }
   ],
   "source": [
    "sympy.expand((s - Polo1)*(s-Polo2)*(s-Polo3))"
   ]
  },
  {
   "cell_type": "code",
   "execution_count": 12,
   "id": "00946792-1d63-4499-af04-b25d9959753e",
   "metadata": {},
   "outputs": [
    {
     "data": {
      "text/latex": [
       "$\\displaystyle \\left[\\begin{matrix}-39 & 6 & 1\\\\13 & -1 & 0\\\\-1 & 0 & 0\\end{matrix}\\right]$"
      ],
      "text/plain": [
       "Matrix([\n",
       "[-39,  6, 1],\n",
       "[ 13, -1, 0],\n",
       "[ -1,  0, 0]])"
      ]
     },
     "execution_count": 12,
     "metadata": {},
     "output_type": "execute_result"
    }
   ],
   "source": [
    "Ui = U**(-1)\n",
    "Ui"
   ]
  },
  {
   "cell_type": "code",
   "execution_count": 13,
   "id": "34b69d27-9355-4258-918d-143058956437",
   "metadata": {},
   "outputs": [
    {
     "data": {
      "text/latex": [
       "$\\displaystyle \\left[\\begin{matrix}72 & 117 & -22\\\\234 & 1542 & -359\\\\-132 & -1077 & 1139\\end{matrix}\\right]$"
      ],
      "text/plain": [
       "Matrix([\n",
       "[  72,   117,  -22],\n",
       "[ 234,  1542, -359],\n",
       "[-132, -1077, 1139]])"
      ]
     },
     "execution_count": 13,
     "metadata": {},
     "output_type": "execute_result"
    }
   ],
   "source": [
    "qc = A**3 + 14*A**2 + 45*A + 50*sympy.eye(3)\n",
    "qc"
   ]
  },
  {
   "cell_type": "code",
   "execution_count": 14,
   "id": "29091b15-72d5-447f-9c02-ccba081e27e6",
   "metadata": {},
   "outputs": [
    {
     "data": {
      "text/latex": [
       "$\\displaystyle \\left[\\begin{matrix}0 & 0 & 1\\end{matrix}\\right]$"
      ],
      "text/plain": [
       "Matrix([[0, 0, 1]])"
      ]
     },
     "execution_count": 14,
     "metadata": {},
     "output_type": "execute_result"
    }
   ],
   "source": [
    "ones = sympy.Matrix([[0, 0, 1]])\n",
    "ones"
   ]
  },
  {
   "cell_type": "code",
   "execution_count": 15,
   "id": "0e7806cb-cc2a-4985-9425-5404fc92a09e",
   "metadata": {},
   "outputs": [
    {
     "data": {
      "text/latex": [
       "$\\displaystyle \\left[\\begin{matrix}-72 & -117 & 22\\end{matrix}\\right]$"
      ],
      "text/plain": [
       "Matrix([[-72, -117, 22]])"
      ]
     },
     "execution_count": 15,
     "metadata": {},
     "output_type": "execute_result"
    }
   ],
   "source": [
    "k = ones*Ui*qc\n",
    "k"
   ]
  },
  {
   "cell_type": "markdown",
   "id": "113fcd19-ce5e-4a31-b977-947a6d833310",
   "metadata": {},
   "source": [
    "### Observador de estados"
   ]
  },
  {
   "cell_type": "code",
   "execution_count": 16,
   "id": "c148b53b-2f1e-4f46-bbaa-98870e60d4a6",
   "metadata": {},
   "outputs": [],
   "source": [
    "pl1 = -1 + I\n",
    "pl2 = -1 - I\n",
    "pl3 = -10"
   ]
  },
  {
   "cell_type": "code",
   "execution_count": 17,
   "id": "0a1cd6fb-6a68-4f85-b93e-5e0fa678dc55",
   "metadata": {},
   "outputs": [
    {
     "data": {
      "text/latex": [
       "$\\displaystyle s^{3} + 12 s^{2} + 22 s + 20$"
      ],
      "text/plain": [
       "s**3 + 12*s**2 + 22*s + 20"
      ]
     },
     "execution_count": 17,
     "metadata": {},
     "output_type": "execute_result"
    }
   ],
   "source": [
    "sympy.expand((s - pl1)*(s-pl2)*(s-pl3))"
   ]
  },
  {
   "cell_type": "code",
   "execution_count": 18,
   "id": "be4c32dc-e6ef-41aa-8a0f-59bb539b20f9",
   "metadata": {},
   "outputs": [
    {
     "data": {
      "text/latex": [
       "$\\displaystyle \\left[\\begin{matrix}\\frac{1336}{4827} & - \\frac{385}{4827} & \\frac{26}{4827}\\\\\\frac{1298}{4827} & \\frac{139}{4827} & - \\frac{47}{4827}\\\\\\frac{2029}{4827} & \\frac{221}{4827} & - \\frac{40}{4827}\\end{matrix}\\right]$"
      ],
      "text/plain": [
       "Matrix([\n",
       "[1336/4827, -385/4827,  26/4827],\n",
       "[1298/4827,  139/4827, -47/4827],\n",
       "[2029/4827,  221/4827, -40/4827]])"
      ]
     },
     "execution_count": 18,
     "metadata": {},
     "output_type": "execute_result"
    }
   ],
   "source": [
    "Vi = V**(-1)\n",
    "Vi"
   ]
  },
  {
   "cell_type": "code",
   "execution_count": 19,
   "id": "0a99637c-ccfe-4ab0-b5b2-69f75ece02fa",
   "metadata": {},
   "outputs": [
    {
     "data": {
      "text/latex": [
       "$\\displaystyle \\left[\\begin{matrix}103 & 90 & -20\\\\180 & 1243 & -310\\\\-120 & -930 & 893\\end{matrix}\\right]$"
      ],
      "text/plain": [
       "Matrix([\n",
       "[ 103,   90,  -20],\n",
       "[ 180, 1243, -310],\n",
       "[-120, -930,  893]])"
      ]
     },
     "execution_count": 19,
     "metadata": {},
     "output_type": "execute_result"
    }
   ],
   "source": [
    "ql = A**3 + 12*A**2 + 22*A + 20*sympy.eye(3)\n",
    "ql"
   ]
  },
  {
   "cell_type": "code",
   "execution_count": 20,
   "id": "0a55e6e5-1538-4390-b73f-5b19f308a00a",
   "metadata": {},
   "outputs": [
    {
     "data": {
      "text/latex": [
       "$\\displaystyle \\left[\\begin{matrix}0\\\\0\\\\1\\end{matrix}\\right]$"
      ],
      "text/plain": [
       "Matrix([\n",
       "[0],\n",
       "[0],\n",
       "[1]])"
      ]
     },
     "execution_count": 20,
     "metadata": {},
     "output_type": "execute_result"
    }
   ],
   "source": [
    "onesl = sympy.Matrix([0,0,1])\n",
    "onesl"
   ]
  },
  {
   "cell_type": "code",
   "execution_count": 21,
   "id": "043f473b-bdaa-46a7-89e4-b81fecd72bdb",
   "metadata": {},
   "outputs": [
    {
     "data": {
      "text/latex": [
       "$\\displaystyle \\left[\\begin{matrix}- \\frac{752}{4827}\\\\- \\frac{41341}{4827}\\\\\\frac{4870}{4827}\\end{matrix}\\right]$"
      ],
      "text/plain": [
       "Matrix([\n",
       "[  -752/4827],\n",
       "[-41341/4827],\n",
       "[  4870/4827]])"
      ]
     },
     "execution_count": 21,
     "metadata": {},
     "output_type": "execute_result"
    }
   ],
   "source": [
    "l = ql*Vi*onesl\n",
    "l"
   ]
  }
 ],
 "metadata": {
  "kernelspec": {
   "display_name": "Python 3 (ipykernel)",
   "language": "python",
   "name": "python3"
  },
  "language_info": {
   "codemirror_mode": {
    "name": "ipython",
    "version": 3
   },
   "file_extension": ".py",
   "mimetype": "text/x-python",
   "name": "python",
   "nbconvert_exporter": "python",
   "pygments_lexer": "ipython3",
   "version": "3.11.5"
  }
 },
 "nbformat": 4,
 "nbformat_minor": 5
}
