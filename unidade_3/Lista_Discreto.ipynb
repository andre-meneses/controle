{
 "cells": [
  {
   "cell_type": "code",
   "execution_count": 14,
   "id": "c1351919-6405-4734-8ac6-c895ae000f06",
   "metadata": {},
   "outputs": [
    {
     "name": "stdout",
     "output_type": "stream",
     "text": [
      "The autoreload extension is already loaded. To reload it, use:\n",
      "  %reload_ext autoreload\n"
     ]
    }
   ],
   "source": [
    "from Discrete import *\n",
    "%load_ext autoreload\n",
    "%autoreload 2"
   ]
  },
  {
   "cell_type": "markdown",
   "id": "3af15223-8e36-4db3-a800-61db151fd3e1",
   "metadata": {},
   "source": [
    "### Questão 1"
   ]
  },
  {
   "cell_type": "code",
   "execution_count": 15,
   "id": "f2b4187e-ff85-4060-95f4-12d1f765e3a7",
   "metadata": {},
   "outputs": [],
   "source": [
    "A = np.array([[1, 0.1], [0.5, 0.1]])\n",
    "B = np.array([[1],[0.1]])\n",
    "C = np.array([[1,1]])\n",
    "D = np.array([[0]])\n",
    "Ts = None\n",
    "\n",
    "system = SystemAnalysis(A, B, C, D, Ts)"
   ]
  },
  {
   "cell_type": "code",
   "execution_count": 16,
   "id": "9ea7fc93-fc10-465e-9f38-8f2fab51e99a",
   "metadata": {},
   "outputs": [
    {
     "name": "stdout",
     "output_type": "stream",
     "text": [
      "Eigenvalues of the system matrix A:\n",
      "⎡ 1.05249378105604 ⎤\n",
      "⎢                  ⎥\n",
      "⎣0.0475062189439555⎦\n"
     ]
    },
    {
     "data": {
      "text/plain": [
       "False"
      ]
     },
     "execution_count": 16,
     "metadata": {},
     "output_type": "execute_result"
    }
   ],
   "source": [
    "system.check_stability()"
   ]
  },
  {
   "cell_type": "code",
   "execution_count": null,
   "id": "4af0b816-b33a-43c7-8e4c-354a51c61f13",
   "metadata": {},
   "outputs": [],
   "source": [
    "system."
   ]
  }
 ],
 "metadata": {
  "kernelspec": {
   "display_name": "Python 3 (ipykernel)",
   "language": "python",
   "name": "python3"
  },
  "language_info": {
   "codemirror_mode": {
    "name": "ipython",
    "version": 3
   },
   "file_extension": ".py",
   "mimetype": "text/x-python",
   "name": "python",
   "nbconvert_exporter": "python",
   "pygments_lexer": "ipython3",
   "version": "3.12.4"
  }
 },
 "nbformat": 4,
 "nbformat_minor": 5
}
