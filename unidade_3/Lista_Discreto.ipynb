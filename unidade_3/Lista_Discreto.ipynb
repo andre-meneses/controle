{
 "cells": [
  {
   "cell_type": "code",
   "execution_count": 77,
   "id": "c1351919-6405-4734-8ac6-c895ae000f06",
   "metadata": {},
   "outputs": [
    {
     "name": "stdout",
     "output_type": "stream",
     "text": [
      "The autoreload extension is already loaded. To reload it, use:\n",
      "  %reload_ext autoreload\n"
     ]
    }
   ],
   "source": [
    "from Discrete import *\n",
    "from aux import *\n",
    "%load_ext autoreload\n",
    "%autoreload 2"
   ]
  },
  {
   "cell_type": "markdown",
   "id": "3af15223-8e36-4db3-a800-61db151fd3e1",
   "metadata": {},
   "source": [
    "### Questão 1"
   ]
  },
  {
   "cell_type": "code",
   "execution_count": 54,
   "id": "f2b4187e-ff85-4060-95f4-12d1f765e3a7",
   "metadata": {},
   "outputs": [],
   "source": [
    "A = np.array([[1, 0.1], [0.5, 0.1]])\n",
    "B = np.array([[1],[0.1]])\n",
    "C = np.array([[1,1]])\n",
    "D = np.array([[0]])\n",
    "Ts = None\n",
    "\n",
    "system = DiscreteSystemAnalysis(A, B, C, D, Ts)"
   ]
  },
  {
   "cell_type": "code",
   "execution_count": 55,
   "id": "9ea7fc93-fc10-465e-9f38-8f2fab51e99a",
   "metadata": {},
   "outputs": [
    {
     "name": "stdout",
     "output_type": "stream",
     "text": [
      "Eigenvalues of the system matrix A:\n",
      "⎡ 1.05249378105604 ⎤\n",
      "⎢                  ⎥\n",
      "⎣0.0475062189439555⎦\n"
     ]
    },
    {
     "data": {
      "text/plain": [
       "False"
      ]
     },
     "execution_count": 55,
     "metadata": {},
     "output_type": "execute_result"
    }
   ],
   "source": [
    "system.check_stability()"
   ]
  },
  {
   "cell_type": "code",
   "execution_count": 56,
   "id": "4af0b816-b33a-43c7-8e4c-354a51c61f13",
   "metadata": {},
   "outputs": [
    {
     "name": "stdout",
     "output_type": "stream",
     "text": [
      "Controllability Matrix:\n",
      "⎡1.0  1.01⎤\n",
      "⎢         ⎥\n",
      "⎣0.1  0.51⎦\n",
      "Rank of the Controllability Matrix: 2\n"
     ]
    },
    {
     "data": {
      "text/plain": [
       "True"
      ]
     },
     "execution_count": 56,
     "metadata": {},
     "output_type": "execute_result"
    }
   ],
   "source": [
    "system.check_controllability()"
   ]
  },
  {
   "cell_type": "code",
   "execution_count": 57,
   "id": "8a41563e-0dd1-47c2-a182-43cca86c4f41",
   "metadata": {},
   "outputs": [
    {
     "name": "stdout",
     "output_type": "stream",
     "text": [
      "Observability Matrix:\n",
      "⎡1.0  1.0⎤\n",
      "⎢        ⎥\n",
      "⎣1.5  0.2⎦\n",
      "Rank of the Observability Matrix: 2\n"
     ]
    },
    {
     "data": {
      "text/plain": [
       "True"
      ]
     },
     "execution_count": 57,
     "metadata": {},
     "output_type": "execute_result"
    }
   ],
   "source": [
    "system.check_observability()"
   ]
  },
  {
   "cell_type": "markdown",
   "id": "d8322c6e-7aca-44ba-8e35-549fddf00271",
   "metadata": {},
   "source": [
    "### Questão 2"
   ]
  },
  {
   "cell_type": "code",
   "execution_count": 58,
   "id": "263f1e39-0be2-40e6-ba5e-f15676c9ad56",
   "metadata": {},
   "outputs": [],
   "source": [
    "A = np.array([[0.0877, 0.1786, -0.0691], [-0.0595, 0.0877, -0.1056], [0, 0, 0.3679]])\n",
    "B = np.array([[-0.0561],[-0.1438], [0.9482]])\n",
    "C = np.array([[1, 0, 0]])\n",
    "D = np.array([[0]])\n",
    "Ts = None\n",
    "\n",
    "system = DiscreteSystemAnalysis(A, B, C, D, Ts)"
   ]
  },
  {
   "cell_type": "code",
   "execution_count": 59,
   "id": "d4dec278-5a24-4318-a41d-7616bc5ee54b",
   "metadata": {},
   "outputs": [
    {
     "name": "stdout",
     "output_type": "stream",
     "text": [
      "K = [[ 15.26471565 -22.16650794  -1.35825068]]\n"
     ]
    }
   ],
   "source": [
    "desired_poles = [-0.5 + 0.5j, -0.5 - 0.5j, 0.5]\n",
    "k = system.ackermann_state_feedback(desired_poles)\n",
    "print(f\"K = {k}\")"
   ]
  },
  {
   "cell_type": "code",
   "execution_count": 60,
   "id": "8e0dd7ef-a471-41c7-babd-af7466aed646",
   "metadata": {},
   "outputs": [
    {
     "name": "stdout",
     "output_type": "stream",
     "text": [
      "L = [[-1.3567    ]\n",
      " [ 0.87944691]\n",
      " [-2.05456747]]\n"
     ]
    }
   ],
   "source": [
    "desired_poles_l = [0.9 + 0.1j, 0.9 - 0.1j, 0.1]\n",
    "l = system.compute_observer_gain(desired_poles_l)\n",
    "print(f\"L = {l}\")"
   ]
  },
  {
   "cell_type": "markdown",
   "id": "b04e0cb3-b43a-4712-96b7-c89908248da8",
   "metadata": {},
   "source": [
    "### Questão 3"
   ]
  },
  {
   "cell_type": "code",
   "execution_count": 61,
   "id": "00de4cf1-f9dc-4555-8054-75e36b159305",
   "metadata": {},
   "outputs": [],
   "source": [
    "A = np.array([[0, 1], [0, 0]])\n",
    "B = np.array([[0],[1]])\n",
    "C = np.array([[1, 1]])\n",
    "D = np.array([[0]])\n",
    "Ts = 1\n",
    "\n",
    "system = DiscreteSystemAnalysis(A, B, C, D, Ts)"
   ]
  },
  {
   "cell_type": "code",
   "execution_count": 62,
   "id": "976f29e5-3a00-42a3-b632-62d7f8bf5128",
   "metadata": {},
   "outputs": [
    {
     "data": {
      "text/latex": [
       "$$\n",
       "\\left(\\begin{array}{rllrll|rll}\n",
       "1\\phantom{.}&\\hspace{-1em}&\\hspace{-1em}\\phantom{\\cdot}&1\\phantom{.}&\\hspace{-1em}&\\hspace{-1em}\\phantom{\\cdot}&0.&\\hspace{-1em}5&\\hspace{-1em}\\phantom{\\cdot}\\\\\n",
       "0\\phantom{.}&\\hspace{-1em}&\\hspace{-1em}\\phantom{\\cdot}&1\\phantom{.}&\\hspace{-1em}&\\hspace{-1em}\\phantom{\\cdot}&1\\phantom{.}&\\hspace{-1em}&\\hspace{-1em}\\phantom{\\cdot}\\\\\n",
       "\\hline\n",
       "1\\phantom{.}&\\hspace{-1em}&\\hspace{-1em}\\phantom{\\cdot}&1\\phantom{.}&\\hspace{-1em}&\\hspace{-1em}\\phantom{\\cdot}&0\\phantom{.}&\\hspace{-1em}&\\hspace{-1em}\\phantom{\\cdot}\\\\\n",
       "\\end{array}\\right)~,~dt=1\n",
       "$$"
      ],
      "text/plain": [
       "StateSpace(array([[1., 1.],\n",
       "       [0., 1.]]), array([[0.5],\n",
       "       [1. ]]), array([[1., 1.]]), array([[0.]]), 1)"
      ]
     },
     "execution_count": 62,
     "metadata": {},
     "output_type": "execute_result"
    }
   ],
   "source": [
    "system.sys_discrete"
   ]
  },
  {
   "cell_type": "code",
   "execution_count": 63,
   "id": "5e1a6096-834a-4b88-96c8-f751de3e6de0",
   "metadata": {},
   "outputs": [
    {
     "name": "stdout",
     "output_type": "stream",
     "text": [
      "K = [[0.8125  1.09375]]\n"
     ]
    }
   ],
   "source": [
    "desired_poles = [0.25 + 0.5j, 0.25 - 0.5j]\n",
    "k = system.ackermann_state_feedback(desired_poles)\n",
    "print(f\"K = {k}\")"
   ]
  },
  {
   "cell_type": "code",
   "execution_count": 64,
   "id": "027b7471-55ac-4f2d-bf51-15deb821baed",
   "metadata": {},
   "outputs": [
    {
     "name": "stdout",
     "output_type": "stream",
     "text": [
      "L = [[1.25]\n",
      " [0.75]]\n"
     ]
    }
   ],
   "source": [
    "desired_poles_l = [-0.5, 0.5]\n",
    "l = system.compute_observer_gain(desired_poles_l)\n",
    "print(f\"L = {l}\")"
   ]
  },
  {
   "cell_type": "markdown",
   "id": "f769b1b3-8df9-4811-9fe7-3ae159f92705",
   "metadata": {},
   "source": [
    "### Questão 4"
   ]
  },
  {
   "cell_type": "code",
   "execution_count": 95,
   "id": "23905b32-94d5-43f0-803b-62398176e0ba",
   "metadata": {},
   "outputs": [],
   "source": [
    "num = [3,-2]\n",
    "den = [1, 1, 0]\n",
    "Ts = 1\n",
    "\n",
    "A,B,C = tf_ss(num,den, 'controllable')"
   ]
  },
  {
   "cell_type": "code",
   "execution_count": 96,
   "id": "d33c716d-0f70-4474-b3a1-b4f95ef4e3a7",
   "metadata": {},
   "outputs": [
    {
     "name": "stdout",
     "output_type": "stream",
     "text": [
      "[[ 0.  1.]\n",
      " [-1. -0.]]\n",
      "------\n",
      "[[0.]\n",
      " [1.]]\n",
      "------\n",
      "[[-2.  3.]]\n"
     ]
    }
   ],
   "source": [
    "print(A)\n",
    "print(\"------\")\n",
    "print(B)\n",
    "print(\"------\")\n",
    "print(C)"
   ]
  },
  {
   "cell_type": "code",
   "execution_count": 97,
   "id": "3a855139-426c-41f8-a8ad-377ea52d14cc",
   "metadata": {},
   "outputs": [
    {
     "data": {
      "text/latex": [
       "$$\n",
       "\\left(\\begin{array}{rllrll|rll}\n",
       "0.&\\hspace{-1em}54&\\hspace{-1em}\\phantom{\\cdot}&0.&\\hspace{-1em}841&\\hspace{-1em}\\phantom{\\cdot}&0.&\\hspace{-1em}46&\\hspace{-1em}\\phantom{\\cdot}\\\\\n",
       "-0.&\\hspace{-1em}841&\\hspace{-1em}\\phantom{\\cdot}&0.&\\hspace{-1em}54&\\hspace{-1em}\\phantom{\\cdot}&0.&\\hspace{-1em}841&\\hspace{-1em}\\phantom{\\cdot}\\\\\n",
       "\\hline\n",
       "-2\\phantom{.}&\\hspace{-1em}&\\hspace{-1em}\\phantom{\\cdot}&3\\phantom{.}&\\hspace{-1em}&\\hspace{-1em}\\phantom{\\cdot}&0\\phantom{.}&\\hspace{-1em}&\\hspace{-1em}\\phantom{\\cdot}\\\\\n",
       "\\end{array}\\right)~,~dt=1\n",
       "$$"
      ],
      "text/plain": [
       "StateSpace(array([[ 0.54030231,  0.84147098],\n",
       "       [-0.84147098,  0.54030231]]), array([[0.45969769],\n",
       "       [0.84147098]]), array([[-2.,  3.]]), array([[0.]]), 1)"
      ]
     },
     "execution_count": 97,
     "metadata": {},
     "output_type": "execute_result"
    }
   ],
   "source": [
    "system = DiscreteSystemAnalysis(A, B, C, D, Ts)\n",
    "system.sys_discrete"
   ]
  },
  {
   "cell_type": "code",
   "execution_count": 100,
   "id": "dbbd888a-36cc-4ec0-a7e4-1d0a538dec6d",
   "metadata": {},
   "outputs": [
    {
     "data": {
      "text/latex": [
       "$$\n",
       "\\left(\\begin{array}{rllrllrll|rll}\n",
       "0.&\\hspace{-1em}54&\\hspace{-1em}\\phantom{\\cdot}&0.&\\hspace{-1em}841&\\hspace{-1em}\\phantom{\\cdot}&0\\phantom{.}&\\hspace{-1em}&\\hspace{-1em}\\phantom{\\cdot}&0.&\\hspace{-1em}46&\\hspace{-1em}\\phantom{\\cdot}\\\\\n",
       "-0.&\\hspace{-1em}841&\\hspace{-1em}\\phantom{\\cdot}&0.&\\hspace{-1em}54&\\hspace{-1em}\\phantom{\\cdot}&0\\phantom{.}&\\hspace{-1em}&\\hspace{-1em}\\phantom{\\cdot}&0.&\\hspace{-1em}841&\\hspace{-1em}\\phantom{\\cdot}\\\\\n",
       "2\\phantom{.}&\\hspace{-1em}&\\hspace{-1em}\\phantom{\\cdot}&-3\\phantom{.}&\\hspace{-1em}&\\hspace{-1em}\\phantom{\\cdot}&0\\phantom{.}&\\hspace{-1em}&\\hspace{-1em}\\phantom{\\cdot}&0\\phantom{.}&\\hspace{-1em}&\\hspace{-1em}\\phantom{\\cdot}\\\\\n",
       "\\hline\n",
       "-2\\phantom{.}&\\hspace{-1em}&\\hspace{-1em}\\phantom{\\cdot}&3\\phantom{.}&\\hspace{-1em}&\\hspace{-1em}\\phantom{\\cdot}&1\\phantom{.}&\\hspace{-1em}&\\hspace{-1em}\\phantom{\\cdot}&0\\phantom{.}&\\hspace{-1em}&\\hspace{-1em}\\phantom{\\cdot}\\\\\n",
       "\\end{array}\\right)\n",
       "$$"
      ],
      "text/plain": [
       "StateSpace(array([[ 0.54030231,  0.84147098,  0.        ],\n",
       "       [-0.84147098,  0.54030231,  0.        ],\n",
       "       [ 2.        , -3.        ,  0.        ]]), array([[0.45969769],\n",
       "       [0.84147098],\n",
       "       [0.        ]]), array([[-2.,  3.,  1.]]), array([[0.]]))"
      ]
     },
     "execution_count": 100,
     "metadata": {},
     "output_type": "execute_result"
    }
   ],
   "source": [
    "system.augment_system()\n",
    "system.sys_aug"
   ]
  },
  {
   "cell_type": "code",
   "execution_count": null,
   "id": "166c6896-1438-43b3-878a-fc45dce0b282",
   "metadata": {},
   "outputs": [],
   "source": []
  }
 ],
 "metadata": {
  "kernelspec": {
   "display_name": "Python 3 (ipykernel)",
   "language": "python",
   "name": "python3"
  },
  "language_info": {
   "codemirror_mode": {
    "name": "ipython",
    "version": 3
   },
   "file_extension": ".py",
   "mimetype": "text/x-python",
   "name": "python",
   "nbconvert_exporter": "python",
   "pygments_lexer": "ipython3",
   "version": "3.12.4"
  }
 },
 "nbformat": 4,
 "nbformat_minor": 5
}
