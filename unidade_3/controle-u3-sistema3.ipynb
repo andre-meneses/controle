{
 "cells": [
  {
   "cell_type": "code",
   "execution_count": 19,
   "id": "f07d422e-009f-455b-af4c-1ceff19eb5a5",
   "metadata": {},
   "outputs": [],
   "source": [
    "import sympy \n",
    "from sympy import I"
   ]
  },
  {
   "cell_type": "code",
   "execution_count": 20,
   "id": "e3a9d319-09a1-4cae-9ac8-e3651e9de26a",
   "metadata": {},
   "outputs": [],
   "source": [
    "s = sympy.symbols('s')"
   ]
  },
  {
   "cell_type": "code",
   "execution_count": 61,
   "id": "50c7a713-d1e4-4b6f-b2e2-e165e9d189ba",
   "metadata": {},
   "outputs": [],
   "source": [
    "A = sympy.Matrix([[0,0,1],[0,0,4],[0,1,-2]])\n",
    "B = sympy.Matrix([0,3,0])\n",
    "C = sympy.Matrix([[0,0,1]])"
   ]
  },
  {
   "cell_type": "code",
   "execution_count": 62,
   "id": "5f25c0cd-3fbd-4a20-afee-9606a500deb9",
   "metadata": {},
   "outputs": [
    {
     "name": "stdout",
     "output_type": "stream",
     "text": [
      "Characteristic polynomial of the matrix A is: s**3 + 2*s**2 - 4*s\n"
     ]
    }
   ],
   "source": [
    "char_poly = A.charpoly(s)\n",
    "\n",
    "# Get the polynomial in expanded form\n",
    "char_poly_expr = char_poly.as_expr()\n",
    "\n",
    "print(f\"Characteristic polynomial of the matrix A is: {char_poly_expr}\")"
   ]
  },
  {
   "cell_type": "code",
   "execution_count": 63,
   "id": "c7e2d13f-142e-45f3-8c95-44ae78158a03",
   "metadata": {},
   "outputs": [
    {
     "name": "stdout",
     "output_type": "stream",
     "text": [
      "Eigenvalues of the matrix A are: [(-3.23606797749979, 1), (1.23606797749979, 1), (0, 1)]\n"
     ]
    }
   ],
   "source": [
    "#eigenvalues = A.eigenvals()\n",
    "eigenvalues = [(eig.evalf(), multiplicity) for eig, multiplicity in A.eigenvals().items()]\n",
    "\n",
    "print(\"Eigenvalues of the matrix A are:\", eigenvalues)"
   ]
  },
  {
   "cell_type": "code",
   "execution_count": 64,
   "id": "8b4c84bc-318d-4366-8718-04bc7dfb5f9d",
   "metadata": {},
   "outputs": [
    {
     "data": {
      "text/latex": [
       "$\\displaystyle \\left[\\begin{matrix}0 & 0 & 3\\\\3 & 0 & 12\\\\0 & 3 & -6\\end{matrix}\\right]$"
      ],
      "text/plain": [
       "Matrix([\n",
       "[0, 0,  3],\n",
       "[3, 0, 12],\n",
       "[0, 3, -6]])"
      ]
     },
     "execution_count": 64,
     "metadata": {},
     "output_type": "execute_result"
    }
   ],
   "source": [
    "U = sympy.Matrix.hstack(B, A*B, A**2*B)\n",
    "U\n"
   ]
  },
  {
   "cell_type": "code",
   "execution_count": 65,
   "id": "a8ea5ad1-1193-47c7-8490-67af16c90e4b",
   "metadata": {},
   "outputs": [
    {
     "data": {
      "text/plain": [
       "3"
      ]
     },
     "execution_count": 65,
     "metadata": {},
     "output_type": "execute_result"
    }
   ],
   "source": [
    "U.rank()"
   ]
  },
  {
   "cell_type": "code",
   "execution_count": 30,
   "id": "e782930d-a0b2-4e5f-a890-1616ccbc75d9",
   "metadata": {},
   "outputs": [
    {
     "data": {
      "text/latex": [
       "$\\displaystyle \\left[\\begin{matrix}-2 & 4 & 3\\\\-15 & -23 & -5\\\\25 & 20 & -8\\end{matrix}\\right]$"
      ],
      "text/plain": [
       "Matrix([\n",
       "[ -2,   4,  3],\n",
       "[-15, -23, -5],\n",
       "[ 25,  20, -8]])"
      ]
     },
     "execution_count": 30,
     "metadata": {},
     "output_type": "execute_result"
    }
   ],
   "source": [
    "V = sympy.Matrix.vstack(C, C*A, C*A**2)\n",
    "V"
   ]
  },
  {
   "cell_type": "code",
   "execution_count": 31,
   "id": "eea58687-fc2e-4677-88bc-d6180f92708b",
   "metadata": {},
   "outputs": [
    {
     "data": {
      "text/plain": [
       "3"
      ]
     },
     "execution_count": 31,
     "metadata": {},
     "output_type": "execute_result"
    }
   ],
   "source": [
    "V.rank()"
   ]
  },
  {
   "cell_type": "markdown",
   "id": "58e57478-97c2-43ea-9dd2-909f9a6fbea2",
   "metadata": {},
   "source": [
    "### Realimentação de estados"
   ]
  },
  {
   "cell_type": "code",
   "execution_count": 66,
   "id": "3f38bcef-c48c-4ea1-a29f-939923c10691",
   "metadata": {},
   "outputs": [],
   "source": [
    "Polo1 = -2\n",
    "Polo2 = -2\n",
    "Polo3 = -3\n"
   ]
  },
  {
   "cell_type": "code",
   "execution_count": 67,
   "id": "f57ce52c-9549-418e-be89-947dd592cb14",
   "metadata": {},
   "outputs": [
    {
     "data": {
      "text/latex": [
       "$\\displaystyle s^{3} + 7 s^{2} + 16 s + 12$"
      ],
      "text/plain": [
       "s**3 + 7*s**2 + 16*s + 12"
      ]
     },
     "execution_count": 67,
     "metadata": {},
     "output_type": "execute_result"
    }
   ],
   "source": [
    "sympy.expand((s - Polo1)*(s-Polo2)*(s-Polo3))"
   ]
  },
  {
   "cell_type": "code",
   "execution_count": 68,
   "id": "00946792-1d63-4499-af04-b25d9959753e",
   "metadata": {},
   "outputs": [
    {
     "data": {
      "text/latex": [
       "$\\displaystyle \\left[\\begin{matrix}- \\frac{4}{3} & \\frac{1}{3} & 0\\\\\\frac{2}{3} & 0 & \\frac{1}{3}\\\\\\frac{1}{3} & 0 & 0\\end{matrix}\\right]$"
      ],
      "text/plain": [
       "Matrix([\n",
       "[-4/3, 1/3,   0],\n",
       "[ 2/3,   0, 1/3],\n",
       "[ 1/3,   0,   0]])"
      ]
     },
     "execution_count": 68,
     "metadata": {},
     "output_type": "execute_result"
    }
   ],
   "source": [
    "Ui = U**(-1)\n",
    "Ui"
   ]
  },
  {
   "cell_type": "code",
   "execution_count": 69,
   "id": "34b69d27-9355-4258-918d-143058956437",
   "metadata": {},
   "outputs": [
    {
     "data": {
      "text/latex": [
       "$\\displaystyle \\left[\\begin{matrix}12 & 5 & 10\\\\0 & 32 & 40\\\\0 & 10 & 12\\end{matrix}\\right]$"
      ],
      "text/plain": [
       "Matrix([\n",
       "[12,  5, 10],\n",
       "[ 0, 32, 40],\n",
       "[ 0, 10, 12]])"
      ]
     },
     "execution_count": 69,
     "metadata": {},
     "output_type": "execute_result"
    }
   ],
   "source": [
    "qc = 1*A**3 + 7*A**2 + + 16*A + 12*sympy.eye(3)\n",
    "qc"
   ]
  },
  {
   "cell_type": "code",
   "execution_count": 70,
   "id": "29091b15-72d5-447f-9c02-ccba081e27e6",
   "metadata": {},
   "outputs": [
    {
     "data": {
      "text/latex": [
       "$\\displaystyle \\left[\\begin{matrix}0 & 0 & 1\\end{matrix}\\right]$"
      ],
      "text/plain": [
       "Matrix([[0, 0, 1]])"
      ]
     },
     "execution_count": 70,
     "metadata": {},
     "output_type": "execute_result"
    }
   ],
   "source": [
    "ones = sympy.Matrix([[0, 0, 1]])\n",
    "ones"
   ]
  },
  {
   "cell_type": "code",
   "execution_count": 71,
   "id": "0e7806cb-cc2a-4985-9425-5404fc92a09e",
   "metadata": {},
   "outputs": [
    {
     "data": {
      "text/latex": [
       "$\\displaystyle \\left[\\begin{matrix}-4 & - \\frac{5}{3} & - \\frac{10}{3}\\end{matrix}\\right]$"
      ],
      "text/plain": [
       "Matrix([[-4, -5/3, -10/3]])"
      ]
     },
     "execution_count": 71,
     "metadata": {},
     "output_type": "execute_result"
    }
   ],
   "source": [
    "k = -1*ones*Ui*qc\n",
    "k"
   ]
  },
  {
   "cell_type": "markdown",
   "id": "113fcd19-ce5e-4a31-b977-947a6d833310",
   "metadata": {},
   "source": [
    "### Observador de estados"
   ]
  },
  {
   "cell_type": "code",
   "execution_count": 32,
   "id": "c148b53b-2f1e-4f46-bbaa-98870e60d4a6",
   "metadata": {},
   "outputs": [],
   "source": [
    "pl1 = -1 \n",
    "pl2 = -1\n",
    "pl3 = -2"
   ]
  },
  {
   "cell_type": "code",
   "execution_count": 33,
   "id": "0a1cd6fb-6a68-4f85-b93e-5e0fa678dc55",
   "metadata": {},
   "outputs": [
    {
     "data": {
      "text/latex": [
       "$\\displaystyle s^{3} + 4 s^{2} + 5 s + 2$"
      ],
      "text/plain": [
       "s**3 + 4*s**2 + 5*s + 2"
      ]
     },
     "execution_count": 33,
     "metadata": {},
     "output_type": "execute_result"
    }
   ],
   "source": [
    "sympy.expand((s - pl1)*(s-pl2)*(s-pl3))"
   ]
  },
  {
   "cell_type": "code",
   "execution_count": 35,
   "id": "be4c32dc-e6ef-41aa-8a0f-59bb539b20f9",
   "metadata": {},
   "outputs": [
    {
     "data": {
      "text/latex": [
       "$\\displaystyle \\left[\\begin{matrix}- \\frac{284}{723} & - \\frac{92}{723} & - \\frac{49}{723}\\\\\\frac{245}{723} & \\frac{59}{723} & \\frac{55}{723}\\\\- \\frac{275}{723} & - \\frac{140}{723} & - \\frac{106}{723}\\end{matrix}\\right]$"
      ],
      "text/plain": [
       "Matrix([\n",
       "[-284/723,  -92/723,  -49/723],\n",
       "[ 245/723,   59/723,   55/723],\n",
       "[-275/723, -140/723, -106/723]])"
      ]
     },
     "execution_count": 35,
     "metadata": {},
     "output_type": "execute_result"
    }
   ],
   "source": [
    "Vi = V**(-1)\n",
    "Vi"
   ]
  },
  {
   "cell_type": "code",
   "execution_count": 37,
   "id": "0a99637c-ccfe-4ab0-b5b2-69f75ece02fa",
   "metadata": {},
   "outputs": [
    {
     "data": {
      "text/latex": [
       "$\\displaystyle \\left[\\begin{matrix}-3 & -2 & 1\\\\-5 & -10 & -5\\\\25 & 30 & 5\\end{matrix}\\right]$"
      ],
      "text/plain": [
       "Matrix([\n",
       "[-3,  -2,  1],\n",
       "[-5, -10, -5],\n",
       "[25,  30,  5]])"
      ]
     },
     "execution_count": 37,
     "metadata": {},
     "output_type": "execute_result"
    }
   ],
   "source": [
    "ql = A**3 + 4*A**2 + 5*A + 2*sympy.eye(3)\n",
    "ql"
   ]
  },
  {
   "cell_type": "code",
   "execution_count": 38,
   "id": "0a55e6e5-1538-4390-b73f-5b19f308a00a",
   "metadata": {},
   "outputs": [
    {
     "data": {
      "text/latex": [
       "$\\displaystyle \\left[\\begin{matrix}0\\\\0\\\\1\\end{matrix}\\right]$"
      ],
      "text/plain": [
       "Matrix([\n",
       "[0],\n",
       "[0],\n",
       "[1]])"
      ]
     },
     "execution_count": 38,
     "metadata": {},
     "output_type": "execute_result"
    }
   ],
   "source": [
    "onesl = sympy.Matrix([0,0,1])\n",
    "onesl"
   ]
  },
  {
   "cell_type": "code",
   "execution_count": 39,
   "id": "043f473b-bdaa-46a7-89e4-b81fecd72bdb",
   "metadata": {},
   "outputs": [
    {
     "data": {
      "text/latex": [
       "$\\displaystyle \\left[\\begin{matrix}- \\frac{23}{241}\\\\\\frac{75}{241}\\\\- \\frac{35}{241}\\end{matrix}\\right]$"
      ],
      "text/plain": [
       "Matrix([\n",
       "[-23/241],\n",
       "[ 75/241],\n",
       "[-35/241]])"
      ]
     },
     "execution_count": 39,
     "metadata": {},
     "output_type": "execute_result"
    }
   ],
   "source": [
    "l = ql*Vi*onesl\n",
    "l"
   ]
  },
  {
   "cell_type": "code",
   "execution_count": null,
   "id": "8c428ec5-2a33-4e31-96c9-04fcde8e6f12",
   "metadata": {},
   "outputs": [],
   "source": []
  }
 ],
 "metadata": {
  "kernelspec": {
   "display_name": "Python 3 (ipykernel)",
   "language": "python",
   "name": "python3"
  },
  "language_info": {
   "codemirror_mode": {
    "name": "ipython",
    "version": 3
   },
   "file_extension": ".py",
   "mimetype": "text/x-python",
   "name": "python",
   "nbconvert_exporter": "python",
   "pygments_lexer": "ipython3",
   "version": "3.11.5"
  }
 },
 "nbformat": 4,
 "nbformat_minor": 5
}
