{
 "cells": [
  {
   "cell_type": "code",
   "execution_count": 1,
   "id": "f07d422e-009f-455b-af4c-1ceff19eb5a5",
   "metadata": {},
   "outputs": [],
   "source": [
    "import sympy \n",
    "from sympy import I"
   ]
  },
  {
   "cell_type": "code",
   "execution_count": 2,
   "id": "e3a9d319-09a1-4cae-9ac8-e3651e9de26a",
   "metadata": {},
   "outputs": [],
   "source": [
    "s = sympy.symbols('s')"
   ]
  },
  {
   "cell_type": "code",
   "execution_count": 27,
   "id": "50c7a713-d1e4-4b6f-b2e2-e165e9d189ba",
   "metadata": {},
   "outputs": [],
   "source": [
    "A = sympy.Matrix([[1,0],[0,-2]])\n",
    "B = sympy.Matrix([1,1])\n",
    "C = sympy.Matrix([[1, 1]])"
   ]
  },
  {
   "cell_type": "markdown",
   "id": "f46a5581-189c-4755-b7fe-327badc1c68b",
   "metadata": {},
   "source": [
    "### Estabilidade, observabilidade, controlabilidade"
   ]
  },
  {
   "cell_type": "code",
   "execution_count": 28,
   "id": "5f25c0cd-3fbd-4a20-afee-9606a500deb9",
   "metadata": {},
   "outputs": [
    {
     "name": "stdout",
     "output_type": "stream",
     "text": [
      "Characteristic polynomial of the matrix A is: s**2 + s - 2\n"
     ]
    }
   ],
   "source": [
    "char_poly = A.charpoly(s)\n",
    "\n",
    "# Get the polynomial in expanded form\n",
    "char_poly_expr = char_poly.as_expr()\n",
    "\n",
    "print(f\"Characteristic polynomial of the matrix A is: {char_poly_expr}\")"
   ]
  },
  {
   "cell_type": "code",
   "execution_count": 29,
   "id": "c7e2d13f-142e-45f3-8c95-44ae78158a03",
   "metadata": {},
   "outputs": [
    {
     "name": "stdout",
     "output_type": "stream",
     "text": [
      "Eigenvalues of the matrix A are: {1: 1, -2: 1}\n"
     ]
    }
   ],
   "source": [
    "eigenvalues = A.eigenvals()\n",
    "\n",
    "print(\"Eigenvalues of the matrix A are:\", eigenvalues)"
   ]
  },
  {
   "cell_type": "code",
   "execution_count": 30,
   "id": "8b4c84bc-318d-4366-8718-04bc7dfb5f9d",
   "metadata": {},
   "outputs": [
    {
     "data": {
      "text/latex": [
       "$\\displaystyle \\left[\\begin{matrix}1 & 1\\\\1 & -2\\end{matrix}\\right]$"
      ],
      "text/plain": [
       "Matrix([\n",
       "[1,  1],\n",
       "[1, -2]])"
      ]
     },
     "execution_count": 30,
     "metadata": {},
     "output_type": "execute_result"
    }
   ],
   "source": [
    "U = sympy.Matrix.hstack(B, A*B)\n",
    "U\n"
   ]
  },
  {
   "cell_type": "code",
   "execution_count": 31,
   "id": "a8ea5ad1-1193-47c7-8490-67af16c90e4b",
   "metadata": {},
   "outputs": [
    {
     "data": {
      "text/plain": [
       "2"
      ]
     },
     "execution_count": 31,
     "metadata": {},
     "output_type": "execute_result"
    }
   ],
   "source": [
    "U.rank()"
   ]
  },
  {
   "cell_type": "code",
   "execution_count": 32,
   "id": "e782930d-a0b2-4e5f-a890-1616ccbc75d9",
   "metadata": {},
   "outputs": [
    {
     "data": {
      "text/latex": [
       "$\\displaystyle \\left[\\begin{matrix}1 & 1\\\\1 & -2\\end{matrix}\\right]$"
      ],
      "text/plain": [
       "Matrix([\n",
       "[1,  1],\n",
       "[1, -2]])"
      ]
     },
     "execution_count": 32,
     "metadata": {},
     "output_type": "execute_result"
    }
   ],
   "source": [
    "V = sympy.Matrix.vstack(C, C*A)\n",
    "V"
   ]
  },
  {
   "cell_type": "code",
   "execution_count": 33,
   "id": "eea58687-fc2e-4677-88bc-d6180f92708b",
   "metadata": {},
   "outputs": [
    {
     "data": {
      "text/plain": [
       "2"
      ]
     },
     "execution_count": 33,
     "metadata": {},
     "output_type": "execute_result"
    }
   ],
   "source": [
    "V.rank()"
   ]
  },
  {
   "cell_type": "markdown",
   "id": "22ca82d4-570f-46f8-9813-0a0b6bcd17ca",
   "metadata": {},
   "source": [
    "### Realimentação de estados"
   ]
  },
  {
   "cell_type": "code",
   "execution_count": 34,
   "id": "351e84c6-5aa6-481b-962a-5652412dfda3",
   "metadata": {},
   "outputs": [],
   "source": [
    "Polo1 = -1\n",
    "Polo2 = -2 \n"
   ]
  },
  {
   "cell_type": "code",
   "execution_count": 35,
   "id": "547510ff-f9aa-46b5-a454-c59a85ca9ae7",
   "metadata": {},
   "outputs": [
    {
     "data": {
      "text/latex": [
       "$\\displaystyle s^{2} + 3 s + 2$"
      ],
      "text/plain": [
       "s**2 + 3*s + 2"
      ]
     },
     "execution_count": 35,
     "metadata": {},
     "output_type": "execute_result"
    }
   ],
   "source": [
    "sympy.expand((s - Polo1)*(s-Polo2))"
   ]
  },
  {
   "cell_type": "code",
   "execution_count": 36,
   "id": "24cb1187-ce25-4c79-8295-800d77fe21a3",
   "metadata": {},
   "outputs": [
    {
     "data": {
      "text/latex": [
       "$\\displaystyle \\left[\\begin{matrix}\\frac{2}{3} & \\frac{1}{3}\\\\\\frac{1}{3} & - \\frac{1}{3}\\end{matrix}\\right]$"
      ],
      "text/plain": [
       "Matrix([\n",
       "[2/3,  1/3],\n",
       "[1/3, -1/3]])"
      ]
     },
     "execution_count": 36,
     "metadata": {},
     "output_type": "execute_result"
    }
   ],
   "source": [
    "Ui = U**(-1)\n",
    "Ui"
   ]
  },
  {
   "cell_type": "code",
   "execution_count": 37,
   "id": "24b6b5e1-60a9-4f4b-aae6-0858e16ab928",
   "metadata": {},
   "outputs": [
    {
     "data": {
      "text/latex": [
       "$\\displaystyle \\left[\\begin{matrix}6 & 0\\\\0 & 0\\end{matrix}\\right]$"
      ],
      "text/plain": [
       "Matrix([\n",
       "[6, 0],\n",
       "[0, 0]])"
      ]
     },
     "execution_count": 37,
     "metadata": {},
     "output_type": "execute_result"
    }
   ],
   "source": [
    "qc = A**2 + 3*A + 2*sympy.eye(2)\n",
    "qc"
   ]
  },
  {
   "cell_type": "code",
   "execution_count": 40,
   "id": "f03d51d6-cb01-4475-aa9b-72fe22a3815c",
   "metadata": {},
   "outputs": [
    {
     "data": {
      "text/latex": [
       "$\\displaystyle \\left[\\begin{matrix}0 & 1\\end{matrix}\\right]$"
      ],
      "text/plain": [
       "Matrix([[0, 1]])"
      ]
     },
     "execution_count": 40,
     "metadata": {},
     "output_type": "execute_result"
    }
   ],
   "source": [
    "ones = sympy.Matrix([[0,  1]])\n",
    "ones"
   ]
  },
  {
   "cell_type": "code",
   "execution_count": 41,
   "id": "cd0e7e81-c0c3-4037-9a80-44574d90ff33",
   "metadata": {},
   "outputs": [
    {
     "data": {
      "text/latex": [
       "$\\displaystyle \\left[\\begin{matrix}2 & 0\\end{matrix}\\right]$"
      ],
      "text/plain": [
       "Matrix([[2, 0]])"
      ]
     },
     "execution_count": 41,
     "metadata": {},
     "output_type": "execute_result"
    }
   ],
   "source": [
    "k = ones*Ui*qc\n",
    "k"
   ]
  },
  {
   "cell_type": "markdown",
   "id": "4fb691ca-9771-4050-bc54-60a999649976",
   "metadata": {},
   "source": [
    "### Observador de Estados"
   ]
  },
  {
   "cell_type": "code",
   "execution_count": 76,
   "id": "f86311d8-1b5f-4d36-bfae-5fea46d9df6c",
   "metadata": {},
   "outputs": [],
   "source": [
    "pl1 = -1 + I\n",
    "pl2 = -1 - I\n",
    "pl3 = -10"
   ]
  },
  {
   "cell_type": "code",
   "execution_count": 77,
   "id": "fd4e8c99-6f25-48d0-b5e8-de299da46dbe",
   "metadata": {},
   "outputs": [
    {
     "data": {
      "text/latex": [
       "$\\displaystyle s^{3} + 12 s^{2} + 22 s + 20$"
      ],
      "text/plain": [
       "s**3 + 12*s**2 + 22*s + 20"
      ]
     },
     "execution_count": 77,
     "metadata": {},
     "output_type": "execute_result"
    }
   ],
   "source": [
    "sympy.expand((s - pl1)*(s-pl2)*(s-pl3))"
   ]
  },
  {
   "cell_type": "code",
   "execution_count": 78,
   "id": "e70482a0-f521-425e-9358-46a8cff10423",
   "metadata": {},
   "outputs": [
    {
     "data": {
      "text/latex": [
       "$\\displaystyle \\left[\\begin{matrix}1 & 0 & 0\\\\\\frac{4}{3} & \\frac{1}{3} & 0\\\\- \\frac{19}{3} & - \\frac{8}{3} & - \\frac{1}{3}\\end{matrix}\\right]$"
      ],
      "text/plain": [
       "Matrix([\n",
       "[    1,    0,    0],\n",
       "[  4/3,  1/3,    0],\n",
       "[-19/3, -8/3, -1/3]])"
      ]
     },
     "execution_count": 78,
     "metadata": {},
     "output_type": "execute_result"
    }
   ],
   "source": [
    "Vi = V**(-1)\n",
    "Vi"
   ]
  },
  {
   "cell_type": "code",
   "execution_count": 79,
   "id": "81060e13-98a9-44b1-a9f7-d67dc1bde767",
   "metadata": {},
   "outputs": [
    {
     "data": {
      "text/latex": [
       "$\\displaystyle \\left[\\begin{matrix}60 & -87 & -6\\\\29 & 60 & 25\\\\0 & 0 & 16\\end{matrix}\\right]$"
      ],
      "text/plain": [
       "Matrix([\n",
       "[60, -87, -6],\n",
       "[29,  60, 25],\n",
       "[ 0,   0, 16]])"
      ]
     },
     "execution_count": 79,
     "metadata": {},
     "output_type": "execute_result"
    }
   ],
   "source": [
    "ql = A**3 + 12*A**2 + 22*A + 20*sympy.eye(3)\n",
    "ql"
   ]
  },
  {
   "cell_type": "code",
   "execution_count": 81,
   "id": "9e7fea69-5cb6-4150-b2d8-32b893361141",
   "metadata": {},
   "outputs": [
    {
     "data": {
      "text/latex": [
       "$\\displaystyle \\left[\\begin{matrix}0\\\\0\\\\1\\end{matrix}\\right]$"
      ],
      "text/plain": [
       "Matrix([\n",
       "[0],\n",
       "[0],\n",
       "[1]])"
      ]
     },
     "execution_count": 81,
     "metadata": {},
     "output_type": "execute_result"
    }
   ],
   "source": [
    "onesl = sympy.Matrix([0,0,1])\n",
    "onesl"
   ]
  },
  {
   "cell_type": "code",
   "execution_count": 84,
   "id": "fe52df05-4dab-41f8-abed-fe9428b361f6",
   "metadata": {},
   "outputs": [
    {
     "data": {
      "text/latex": [
       "$\\displaystyle \\left[\\begin{matrix}2\\\\- \\frac{25}{3}\\\\- \\frac{16}{3}\\end{matrix}\\right]$"
      ],
      "text/plain": [
       "Matrix([\n",
       "[    2],\n",
       "[-25/3],\n",
       "[-16/3]])"
      ]
     },
     "execution_count": 84,
     "metadata": {},
     "output_type": "execute_result"
    }
   ],
   "source": [
    "l = ql*Vi*onesl\n",
    "l"
   ]
  },
  {
   "cell_type": "code",
   "execution_count": null,
   "id": "41309254-dfde-44d8-ac6e-3636daa8da71",
   "metadata": {},
   "outputs": [],
   "source": []
  }
 ],
 "metadata": {
  "kernelspec": {
   "display_name": "Python 3 (ipykernel)",
   "language": "python",
   "name": "python3"
  },
  "language_info": {
   "codemirror_mode": {
    "name": "ipython",
    "version": 3
   },
   "file_extension": ".py",
   "mimetype": "text/x-python",
   "name": "python",
   "nbconvert_exporter": "python",
   "pygments_lexer": "ipython3",
   "version": "3.11.5"
  }
 },
 "nbformat": 4,
 "nbformat_minor": 5
}
