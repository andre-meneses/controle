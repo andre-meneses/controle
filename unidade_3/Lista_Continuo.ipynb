{
 "cells": [
  {
   "cell_type": "code",
   "execution_count": 163,
   "id": "c1351919-6405-4734-8ac6-c895ae000f06",
   "metadata": {},
   "outputs": [
    {
     "name": "stdout",
     "output_type": "stream",
     "text": [
      "The autoreload extension is already loaded. To reload it, use:\n",
      "  %reload_ext autoreload\n"
     ]
    }
   ],
   "source": [
    "from Continuous import *\n",
    "from aux import *\n",
    "%load_ext autoreload\n",
    "%autoreload 2"
   ]
  },
  {
   "cell_type": "markdown",
   "id": "3af15223-8e36-4db3-a800-61db151fd3e1",
   "metadata": {},
   "source": [
    "### Questão 1"
   ]
  },
  {
   "cell_type": "markdown",
   "id": "665d47cc-7660-4dd5-b0f3-c127ebf63c71",
   "metadata": {
    "jp-MarkdownHeadingCollapsed": true
   },
   "source": [
    "#### Sistema A"
   ]
  },
  {
   "cell_type": "code",
   "execution_count": 6,
   "id": "f2b4187e-ff85-4060-95f4-12d1f765e3a7",
   "metadata": {},
   "outputs": [],
   "source": [
    "A = np.array([[-4, 3 , 0], [-1, -4, -1], [0,0,-2]])\n",
    "B = np.array([[0],[0], [3]])\n",
    "C = np.array([[1, 0, 0]])\n",
    "D = np.array([[0]])\n",
    "\n",
    "system = ContinousSystemAnalysis(A, B, C, D)"
   ]
  },
  {
   "cell_type": "code",
   "execution_count": 7,
   "id": "28318797-7d2f-4d1d-8cdf-ab570daf7dbf",
   "metadata": {},
   "outputs": [
    {
     "data": {
      "text/latex": [
       "$\\displaystyle s^{3} + 10 s^{2} + 35 s + 38$"
      ],
      "text/plain": [
       "s**3 + 10*s**2 + 35*s + 38"
      ]
     },
     "execution_count": 7,
     "metadata": {},
     "output_type": "execute_result"
    }
   ],
   "source": [
    "system.char_poly()"
   ]
  },
  {
   "cell_type": "code",
   "execution_count": 8,
   "id": "9ea7fc93-fc10-465e-9f38-8f2fab51e99a",
   "metadata": {},
   "outputs": [
    {
     "name": "stdout",
     "output_type": "stream",
     "text": [
      "Eigenvalues of the system matrix A:\n",
      "⎡-4.0 + 1.73205080756888⋅ⅈ⎤\n",
      "⎢                         ⎥\n",
      "⎢-4.0 - 1.73205080756888⋅ⅈ⎥\n",
      "⎢                         ⎥\n",
      "⎣          -2.0           ⎦\n"
     ]
    },
    {
     "data": {
      "text/plain": [
       "np.True_"
      ]
     },
     "execution_count": 8,
     "metadata": {},
     "output_type": "execute_result"
    }
   ],
   "source": [
    "system.check_stability()"
   ]
  },
  {
   "cell_type": "code",
   "execution_count": 9,
   "id": "4af0b816-b33a-43c7-8e4c-354a51c61f13",
   "metadata": {},
   "outputs": [
    {
     "name": "stdout",
     "output_type": "stream",
     "text": [
      "Controllability Matrix:\n",
      "⎡0.0  0.0   -9.0⎤\n",
      "⎢               ⎥\n",
      "⎢0.0  -3.0  18.0⎥\n",
      "⎢               ⎥\n",
      "⎣3.0  -6.0  12.0⎦\n",
      "Rank of the Controllability Matrix: 3\n"
     ]
    },
    {
     "data": {
      "text/plain": [
       "np.True_"
      ]
     },
     "execution_count": 9,
     "metadata": {},
     "output_type": "execute_result"
    }
   ],
   "source": [
    "system.check_controllability()"
   ]
  },
  {
   "cell_type": "code",
   "execution_count": 10,
   "id": "8a41563e-0dd1-47c2-a182-43cca86c4f41",
   "metadata": {},
   "outputs": [
    {
     "name": "stdout",
     "output_type": "stream",
     "text": [
      "Observability Matrix:\n",
      "⎡1.0    0.0   0.0 ⎤\n",
      "⎢                 ⎥\n",
      "⎢-4.0   3.0   0.0 ⎥\n",
      "⎢                 ⎥\n",
      "⎣13.0  -24.0  -3.0⎦\n",
      "Rank of the Observability Matrix: 3\n"
     ]
    },
    {
     "data": {
      "text/plain": [
       "np.True_"
      ]
     },
     "execution_count": 10,
     "metadata": {},
     "output_type": "execute_result"
    }
   ],
   "source": [
    "system.check_observability()"
   ]
  },
  {
   "cell_type": "markdown",
   "id": "4fea4fe9-2447-4f4b-bd25-aeb42de25b4f",
   "metadata": {
    "jp-MarkdownHeadingCollapsed": true
   },
   "source": [
    "#### Sistema B"
   ]
  },
  {
   "cell_type": "code",
   "execution_count": 11,
   "id": "d9abdd6d-0525-47d8-a129-5bdff4624199",
   "metadata": {},
   "outputs": [],
   "source": [
    "A = np.array([[-5, 1 , 0], [2, 7, -1], [0,-3,6]])\n",
    "B = np.array([[0],[0], [1]])\n",
    "C = np.array([[1, -2, 3]])\n",
    "D = np.array([[0]])\n",
    "\n",
    "system = ContinousSystemAnalysis(A, B, C, D)"
   ]
  },
  {
   "cell_type": "code",
   "execution_count": 12,
   "id": "32ca2c6a-7236-4260-9ae5-62b37d9ebba2",
   "metadata": {},
   "outputs": [
    {
     "data": {
      "text/latex": [
       "$\\displaystyle s^{3} - 8 s^{2} - 28 s + 207$"
      ],
      "text/plain": [
       "s**3 - 8*s**2 - 28*s + 207"
      ]
     },
     "execution_count": 12,
     "metadata": {},
     "output_type": "execute_result"
    }
   ],
   "source": [
    "system.char_poly()"
   ]
  },
  {
   "cell_type": "code",
   "execution_count": 13,
   "id": "21cddf54-e0ce-40c6-bdcd-738109f916e1",
   "metadata": {},
   "outputs": [
    {
     "name": "stdout",
     "output_type": "stream",
     "text": [
      "Eigenvalues of the system matrix A:\n",
      "⎡-5.16807496502934⎤\n",
      "⎢                 ⎥\n",
      "⎢8.39951290420461 ⎥\n",
      "⎢                 ⎥\n",
      "⎣4.76856206082472 ⎦\n"
     ]
    },
    {
     "data": {
      "text/plain": [
       "np.False_"
      ]
     },
     "execution_count": 13,
     "metadata": {},
     "output_type": "execute_result"
    }
   ],
   "source": [
    "system.check_stability()"
   ]
  },
  {
   "cell_type": "code",
   "execution_count": 15,
   "id": "74552727-055b-4286-ab53-2b9ca417c101",
   "metadata": {},
   "outputs": [
    {
     "name": "stdout",
     "output_type": "stream",
     "text": [
      "Controllability Matrix:\n",
      "⎡0.0  0.0   -1.0 ⎤\n",
      "⎢                ⎥\n",
      "⎢0.0  -1.0  -13.0⎥\n",
      "⎢                ⎥\n",
      "⎣1.0  6.0   39.0 ⎦\n",
      "Rank of the Controllability Matrix: 3\n"
     ]
    },
    {
     "data": {
      "text/plain": [
       "np.True_"
      ]
     },
     "execution_count": 15,
     "metadata": {},
     "output_type": "execute_result"
    }
   ],
   "source": [
    "system.check_controllability()"
   ]
  },
  {
   "cell_type": "code",
   "execution_count": 14,
   "id": "7cc2708a-49eb-43f1-8e0a-e6e2118af069",
   "metadata": {},
   "outputs": [
    {
     "name": "stdout",
     "output_type": "stream",
     "text": [
      "Observability Matrix:\n",
      "⎡1.0    -2.0    3.0 ⎤\n",
      "⎢                   ⎥\n",
      "⎢-9.0  -22.0   20.0 ⎥\n",
      "⎢                   ⎥\n",
      "⎣1.0   -223.0  142.0⎦\n",
      "Rank of the Observability Matrix: 3\n"
     ]
    },
    {
     "data": {
      "text/plain": [
       "np.True_"
      ]
     },
     "execution_count": 14,
     "metadata": {},
     "output_type": "execute_result"
    }
   ],
   "source": [
    "system.check_observability()"
   ]
  },
  {
   "cell_type": "markdown",
   "id": "d8322c6e-7aca-44ba-8e35-549fddf00271",
   "metadata": {
    "jp-MarkdownHeadingCollapsed": true
   },
   "source": [
    "### Questão 2"
   ]
  },
  {
   "cell_type": "code",
   "execution_count": 19,
   "id": "263f1e39-0be2-40e6-ba5e-f15676c9ad56",
   "metadata": {},
   "outputs": [
    {
     "name": "stdin",
     "output_type": "stream",
     "text": [
      "Enter the system order:  3\n"
     ]
    },
    {
     "name": "stdout",
     "output_type": "stream",
     "text": [
      "Enter the entries for matrix A (3x3) row by row, separated by commas:\n"
     ]
    },
    {
     "name": "stdin",
     "output_type": "stream",
     "text": [
      "Row 1:  -4, 3, 0\n",
      "Row 2:  -1, -4, -1\n",
      "Row 3:  0, 0, -2\n"
     ]
    },
    {
     "name": "stdout",
     "output_type": "stream",
     "text": [
      "Enter the entries for matrix B (3x1), one entry per line:\n"
     ]
    },
    {
     "name": "stdin",
     "output_type": "stream",
     "text": [
      "Entry 1:  0\n",
      "Entry 2:  0\n",
      "Entry 3:  3\n"
     ]
    },
    {
     "name": "stdout",
     "output_type": "stream",
     "text": [
      "Enter the entries for matrix C (1x{n}), separated by commas:\n"
     ]
    },
    {
     "name": "stdin",
     "output_type": "stream",
     "text": [
      "Row:  1, 0, 0\n"
     ]
    },
    {
     "name": "stdout",
     "output_type": "stream",
     "text": [
      "Enter the entry for matrix D (1x1):\n"
     ]
    },
    {
     "name": "stdin",
     "output_type": "stream",
     "text": [
      "Entry:  0\n"
     ]
    }
   ],
   "source": [
    "A,B,C,D = input_matrices()"
   ]
  },
  {
   "cell_type": "code",
   "execution_count": 20,
   "id": "f85b0f3c-9b52-4947-b2d3-ce07fce9f12d",
   "metadata": {},
   "outputs": [],
   "source": [
    "system = ContinousSystemAnalysis(A,B,C,D)"
   ]
  },
  {
   "cell_type": "code",
   "execution_count": 23,
   "id": "d4dec278-5a24-4318-a41d-7616bc5ee54b",
   "metadata": {},
   "outputs": [
    {
     "name": "stdout",
     "output_type": "stream",
     "text": [
      "K = [[ 2.66666667 -7.33333333 -1.33333333]]\n"
     ]
    }
   ],
   "source": [
    "desired_poles = [-2 + 1j, -2 - 1j, -10]\n",
    "k = system.ackermann_state_feedback(desired_poles)\n",
    "print(f\"K = {k}\")"
   ]
  },
  {
   "cell_type": "code",
   "execution_count": 24,
   "id": "8e0dd7ef-a471-41c7-babd-af7466aed646",
   "metadata": {},
   "outputs": [
    {
     "name": "stdout",
     "output_type": "stream",
     "text": [
      "L = [[ 2.        ]\n",
      " [-8.33333333]\n",
      " [-5.33333333]]\n"
     ]
    }
   ],
   "source": [
    "desired_poles_l = [-1 + 1j, -1 - 1j, -10]\n",
    "l = system.compute_observer_gain(desired_poles_l)\n",
    "print(f\"L = {l}\")"
   ]
  },
  {
   "cell_type": "markdown",
   "id": "b04e0cb3-b43a-4712-96b7-c89908248da8",
   "metadata": {
    "jp-MarkdownHeadingCollapsed": true
   },
   "source": [
    "### Questão 3"
   ]
  },
  {
   "cell_type": "code",
   "execution_count": 46,
   "id": "00de4cf1-f9dc-4555-8054-75e36b159305",
   "metadata": {},
   "outputs": [
    {
     "name": "stdin",
     "output_type": "stream",
     "text": [
      "Enter the system order:  3\n"
     ]
    },
    {
     "name": "stdout",
     "output_type": "stream",
     "text": [
      "Enter the entries for matrix A (3x3) row by row, separated by commas:\n"
     ]
    },
    {
     "name": "stdin",
     "output_type": "stream",
     "text": [
      "Row 1:  -5, 1, 0\n",
      "Row 2:  2, 7, -1\n",
      "Row 3:  0, -3, 6\n"
     ]
    },
    {
     "name": "stdout",
     "output_type": "stream",
     "text": [
      "Enter the entries for matrix B (3x1), one entry per line:\n"
     ]
    },
    {
     "name": "stdin",
     "output_type": "stream",
     "text": [
      "Entry 1:  0\n",
      "Entry 2:  0\n",
      "Entry 3:  1\n"
     ]
    },
    {
     "name": "stdout",
     "output_type": "stream",
     "text": [
      "Enter the entries for matrix C (1x{n}), separated by commas:\n"
     ]
    },
    {
     "name": "stdin",
     "output_type": "stream",
     "text": [
      "Row:  1, -2, 3\n"
     ]
    },
    {
     "name": "stdout",
     "output_type": "stream",
     "text": [
      "Enter the entry for matrix D (1x1):\n"
     ]
    },
    {
     "name": "stdin",
     "output_type": "stream",
     "text": [
      "Entry:  0\n"
     ]
    }
   ],
   "source": [
    "A,B,C,D = input_matrices()"
   ]
  },
  {
   "cell_type": "code",
   "execution_count": 47,
   "id": "976f29e5-3a00-42a3-b632-62d7f8bf5128",
   "metadata": {},
   "outputs": [],
   "source": [
    "system = ContinousSystemAnalysis(A,B,C,D)"
   ]
  },
  {
   "cell_type": "code",
   "execution_count": 48,
   "id": "5e1a6096-834a-4b88-96c8-f751de3e6de0",
   "metadata": {},
   "outputs": [
    {
     "name": "stdout",
     "output_type": "stream",
     "text": [
      "K = [[ 72. 117. -22.]]\n"
     ]
    }
   ],
   "source": [
    "desired_poles = [-2 + 1j, -2 - 1j, -10]\n",
    "k = system.ackermann_state_feedback(desired_poles)\n",
    "print(f\"K = {k}\")"
   ]
  },
  {
   "cell_type": "code",
   "execution_count": 49,
   "id": "027b7471-55ac-4f2d-bf51-15deb821baed",
   "metadata": {},
   "outputs": [
    {
     "name": "stdout",
     "output_type": "stream",
     "text": [
      "L = [[-0.15579035]\n",
      " [-8.56453284]\n",
      " [ 1.00890822]]\n"
     ]
    }
   ],
   "source": [
    "desired_poles_l = [-1 + 1j, -1 -1j, -10]\n",
    "l = system.compute_observer_gain(desired_poles_l)\n",
    "print(f\"L = {l}\")"
   ]
  },
  {
   "cell_type": "markdown",
   "id": "f769b1b3-8df9-4811-9fe7-3ae159f92705",
   "metadata": {},
   "source": [
    "### Questão 4"
   ]
  },
  {
   "cell_type": "code",
   "execution_count": 112,
   "id": "23905b32-94d5-43f0-803b-62398176e0ba",
   "metadata": {},
   "outputs": [
    {
     "name": "stdin",
     "output_type": "stream",
     "text": [
      "Enter the system order:  3\n"
     ]
    },
    {
     "name": "stdout",
     "output_type": "stream",
     "text": [
      "Enter the entries for matrix A (3x3) row by row, separated by commas:\n"
     ]
    },
    {
     "name": "stdin",
     "output_type": "stream",
     "text": [
      "Row 1:  -6, 1 ,0\n",
      "Row 2:  -11, 0, 1\n",
      "Row 3:  -6, 0, 0\n"
     ]
    },
    {
     "name": "stdout",
     "output_type": "stream",
     "text": [
      "Enter the entries for matrix B (3x1), one entry per line:\n"
     ]
    },
    {
     "name": "stdin",
     "output_type": "stream",
     "text": [
      "Entry 1:  2\n",
      "Entry 2:  6\n",
      "Entry 3:  2\n"
     ]
    },
    {
     "name": "stdout",
     "output_type": "stream",
     "text": [
      "Enter the entries for matrix C (1x{n}), separated by commas:\n"
     ]
    },
    {
     "name": "stdin",
     "output_type": "stream",
     "text": [
      "Row:  1, 0 , 0\n"
     ]
    },
    {
     "name": "stdout",
     "output_type": "stream",
     "text": [
      "Enter the entry for matrix D (1x1):\n"
     ]
    },
    {
     "name": "stdin",
     "output_type": "stream",
     "text": [
      "Entry:  0\n"
     ]
    }
   ],
   "source": [
    "A,B,C,D = input_matrices()"
   ]
  },
  {
   "cell_type": "code",
   "execution_count": 113,
   "id": "d33c716d-0f70-4474-b3a1-b4f95ef4e3a7",
   "metadata": {},
   "outputs": [],
   "source": [
    "system = ContinousSystemAnalysis(A,B,C,D)"
   ]
  },
  {
   "cell_type": "code",
   "execution_count": 115,
   "id": "f798eca9-aab7-456a-841e-f5d09a886630",
   "metadata": {},
   "outputs": [
    {
     "data": {
      "text/plain": [
       "(3, 1)"
      ]
     },
     "execution_count": 115,
     "metadata": {},
     "output_type": "execute_result"
    }
   ],
   "source": [
    "system.B.shape"
   ]
  },
  {
   "cell_type": "code",
   "execution_count": 36,
   "id": "3a855139-426c-41f8-a8ad-377ea52d14cc",
   "metadata": {},
   "outputs": [],
   "source": [
    "desired_poles = [-1 + 0.1j, -1 - 0.1j, -5, -12]\n",
    "system.augment_system()"
   ]
  },
  {
   "cell_type": "code",
   "execution_count": 43,
   "id": "dbbd888a-36cc-4ec0-a7e4-1d0a538dec6d",
   "metadata": {},
   "outputs": [],
   "source": [
    "k1, k2 = system.reference_tracker_gain(desired_poles)\n"
   ]
  },
  {
   "cell_type": "code",
   "execution_count": 44,
   "id": "7acd93b6-9a57-4b9a-bcaf-782d385fd076",
   "metadata": {},
   "outputs": [
    {
     "data": {
      "text/plain": [
       "np.float64(30.299999999999596)"
      ]
     },
     "execution_count": 44,
     "metadata": {},
     "output_type": "execute_result"
    }
   ],
   "source": [
    "k1"
   ]
  },
  {
   "cell_type": "code",
   "execution_count": 45,
   "id": "9fef36ea-e342-45a7-bf33-a1f57856f054",
   "metadata": {},
   "outputs": [
    {
     "data": {
      "text/plain": [
       "array([-84.325,  33.085,  -8.43 ])"
      ]
     },
     "execution_count": 45,
     "metadata": {},
     "output_type": "execute_result"
    }
   ],
   "source": [
    "k2"
   ]
  },
  {
   "cell_type": "markdown",
   "id": "95b427c9-fe73-4809-8e91-a41740c37160",
   "metadata": {
    "jp-MarkdownHeadingCollapsed": true
   },
   "source": [
    "### Questão 5"
   ]
  },
  {
   "cell_type": "code",
   "execution_count": 124,
   "id": "214d97bb-0c1d-41cc-be9c-ca16e75ed92b",
   "metadata": {},
   "outputs": [],
   "source": [
    "num = [3,4,-2]\n",
    "den = [1,3,7,5]\n",
    "\n",
    "A,B,C,D = tf_ss(num,den, 'control')\n",
    "\n",
    "system = ContinousSystemAnalysis(A, B, C, D)"
   ]
  },
  {
   "cell_type": "code",
   "execution_count": 128,
   "id": "0d3d21b5-6b95-41e2-a6f5-40ef6c1052b3",
   "metadata": {},
   "outputs": [
    {
     "name": "stdout",
     "output_type": "stream",
     "text": [
      "Observability Matrix:\n",
      "⎡-2.0    4.0   3.0 ⎤\n",
      "⎢                  ⎥\n",
      "⎢-15.0  -23.0  -5.0⎥\n",
      "⎢                  ⎥\n",
      "⎣25.0   20.0   -8.0⎦\n",
      "Rank of the Observability Matrix: 3\n"
     ]
    },
    {
     "data": {
      "text/plain": [
       "np.True_"
      ]
     },
     "execution_count": 128,
     "metadata": {},
     "output_type": "execute_result"
    }
   ],
   "source": [
    "system.sys"
   ]
  },
  {
   "cell_type": "code",
   "execution_count": 136,
   "id": "5e3b1d03-6e1d-4da9-a791-7203421d1a1b",
   "metadata": {
    "scrolled": true
   },
   "outputs": [
    {
     "data": {
      "text/plain": [
       "array([[-0.09543568],\n",
       "       [ 0.31120332],\n",
       "       [-0.14522822]])"
      ]
     },
     "execution_count": 136,
     "metadata": {},
     "output_type": "execute_result"
    }
   ],
   "source": [
    "poles = [-1, -1, -2]\n",
    "ackermann_observer_gain(system.A, system.C, poles)"
   ]
  },
  {
   "cell_type": "code",
   "execution_count": 137,
   "id": "c8dee1c6-5a75-46f0-a690-c830cf9dd14e",
   "metadata": {},
   "outputs": [
    {
     "data": {
      "text/plain": [
       "array([[-75., -49., -10.]])"
      ]
     },
     "execution_count": 137,
     "metadata": {},
     "output_type": "execute_result"
    }
   ],
   "source": [
    "poles = [-4, -4, -5]\n",
    "system.ackermann_state_feedback(poles)"
   ]
  },
  {
   "cell_type": "markdown",
   "id": "00f0e507-7de9-414d-a194-a624da1aefdb",
   "metadata": {
    "jp-MarkdownHeadingCollapsed": true
   },
   "source": [
    "### Questão 6"
   ]
  },
  {
   "cell_type": "code",
   "execution_count": 196,
   "id": "3fb96a20-8822-4178-a381-9c6dc6fcf4a7",
   "metadata": {},
   "outputs": [],
   "source": [
    "num = [2, 1]\n",
    "den = [1, 3, 0]\n",
    "\n",
    "A,B,C,D = tf_ss(num,den, 'control')\n",
    "\n",
    "system = ContinousSystemAnalysis(A, B, C, D)"
   ]
  },
  {
   "cell_type": "code",
   "execution_count": 197,
   "id": "9b49b52e-65a5-4e36-8714-607f94005652",
   "metadata": {},
   "outputs": [
    {
     "data": {
      "text/latex": [
       "$$\n",
       "\\left(\\begin{array}{rllrll|rll}\n",
       "0\\phantom{.}&\\hspace{-1em}&\\hspace{-1em}\\phantom{\\cdot}&1\\phantom{.}&\\hspace{-1em}&\\hspace{-1em}\\phantom{\\cdot}&0\\phantom{.}&\\hspace{-1em}&\\hspace{-1em}\\phantom{\\cdot}\\\\\n",
       "0\\phantom{.}&\\hspace{-1em}&\\hspace{-1em}\\phantom{\\cdot}&-3\\phantom{.}&\\hspace{-1em}&\\hspace{-1em}\\phantom{\\cdot}&1\\phantom{.}&\\hspace{-1em}&\\hspace{-1em}\\phantom{\\cdot}\\\\\n",
       "\\hline\n",
       "1\\phantom{.}&\\hspace{-1em}&\\hspace{-1em}\\phantom{\\cdot}&2\\phantom{.}&\\hspace{-1em}&\\hspace{-1em}\\phantom{\\cdot}&0\\phantom{.}&\\hspace{-1em}&\\hspace{-1em}\\phantom{\\cdot}\\\\\n",
       "\\end{array}\\right)\n",
       "$$"
      ],
      "text/plain": [
       "StateSpace(array([[ 0.,  1.],\n",
       "       [ 0., -3.]]), array([[0.],\n",
       "       [1.]]), array([[1., 2.]]), array([[0.]]))"
      ]
     },
     "execution_count": 197,
     "metadata": {},
     "output_type": "execute_result"
    }
   ],
   "source": [
    "system.sys"
   ]
  },
  {
   "cell_type": "code",
   "execution_count": 198,
   "id": "c0f03473-e995-4dd6-a247-1b8a7e3346aa",
   "metadata": {},
   "outputs": [],
   "source": [
    "system.augment_system()"
   ]
  },
  {
   "cell_type": "code",
   "execution_count": 199,
   "id": "57df6ab4-3a74-4d0c-88e8-f169ab5f54b6",
   "metadata": {},
   "outputs": [],
   "source": [
    "k1, k2 = system.reference_tracker_gain([-1, -1, -1])"
   ]
  },
  {
   "cell_type": "code",
   "execution_count": 200,
   "id": "1c944161-5987-4f02-bb10-7d20cab95167",
   "metadata": {},
   "outputs": [
    {
     "data": {
      "text/plain": [
       "np.float64(-1.0)"
      ]
     },
     "execution_count": 200,
     "metadata": {},
     "output_type": "execute_result"
    }
   ],
   "source": [
    "k1"
   ]
  },
  {
   "cell_type": "code",
   "execution_count": 201,
   "id": "bf8381eb-3ebc-4471-9931-db50ffe51ee7",
   "metadata": {},
   "outputs": [
    {
     "data": {
      "text/plain": [
       "array([-1.,  0.])"
      ]
     },
     "execution_count": 201,
     "metadata": {},
     "output_type": "execute_result"
    }
   ],
   "source": [
    "k2"
   ]
  },
  {
   "cell_type": "markdown",
   "id": "5b3b3206-fd30-417e-9a69-c64606f77780",
   "metadata": {
    "jp-MarkdownHeadingCollapsed": true
   },
   "source": [
    "### Questão 7"
   ]
  },
  {
   "cell_type": "code",
   "execution_count": 173,
   "id": "4273931b-7b3e-4fed-9d43-0b5d46dc4a3a",
   "metadata": {},
   "outputs": [
    {
     "name": "stdout",
     "output_type": "stream",
     "text": [
      "(1, 2)\n"
     ]
    }
   ],
   "source": [
    "num = [0, 3]\n",
    "den = [1, 2, -4]\n",
    "\n",
    "A,B,C,D = tf_ss(num,den, 'observe')\n",
    "\n",
    "system = ContinousSystemAnalysis(A, B, C, D)"
   ]
  },
  {
   "cell_type": "code",
   "execution_count": 174,
   "id": "bdc8df8e-33e6-440f-bb47-88d443654cab",
   "metadata": {},
   "outputs": [
    {
     "data": {
      "text/latex": [
       "$$\n",
       "\\left(\\begin{array}{rllrll|rll}\n",
       "0\\phantom{.}&\\hspace{-1em}&\\hspace{-1em}\\phantom{\\cdot}&4\\phantom{.}&\\hspace{-1em}&\\hspace{-1em}\\phantom{\\cdot}&3\\phantom{.}&\\hspace{-1em}&\\hspace{-1em}\\phantom{\\cdot}\\\\\n",
       "1\\phantom{.}&\\hspace{-1em}&\\hspace{-1em}\\phantom{\\cdot}&-2\\phantom{.}&\\hspace{-1em}&\\hspace{-1em}\\phantom{\\cdot}&0\\phantom{.}&\\hspace{-1em}&\\hspace{-1em}\\phantom{\\cdot}\\\\\n",
       "\\hline\n",
       "0\\phantom{.}&\\hspace{-1em}&\\hspace{-1em}\\phantom{\\cdot}&1\\phantom{.}&\\hspace{-1em}&\\hspace{-1em}\\phantom{\\cdot}&0\\phantom{.}&\\hspace{-1em}&\\hspace{-1em}\\phantom{\\cdot}\\\\\n",
       "\\end{array}\\right)\n",
       "$$"
      ],
      "text/plain": [
       "StateSpace(array([[ 0.,  4.],\n",
       "       [ 1., -2.]]), array([[3.],\n",
       "       [0.]]), array([[0., 1.]]), array([[0.]]))"
      ]
     },
     "execution_count": 174,
     "metadata": {},
     "output_type": "execute_result"
    }
   ],
   "source": [
    "system.sys"
   ]
  },
  {
   "cell_type": "code",
   "execution_count": 175,
   "id": "709f1903-302c-478c-8ef0-54e1167edfdb",
   "metadata": {},
   "outputs": [],
   "source": [
    "system.augment_system()"
   ]
  },
  {
   "cell_type": "code",
   "execution_count": 176,
   "id": "900aa37d-1049-42cf-bc19-13baf41f30d3",
   "metadata": {},
   "outputs": [],
   "source": [
    "k1, k2 = system.reference_tracker_gain([-2, -2, -3])"
   ]
  },
  {
   "cell_type": "code",
   "execution_count": 177,
   "id": "b9da298f-97fe-444b-8686-90f18fafeeac",
   "metadata": {},
   "outputs": [
    {
     "data": {
      "text/plain": [
       "np.float64(4.0)"
      ]
     },
     "execution_count": 177,
     "metadata": {},
     "output_type": "execute_result"
    }
   ],
   "source": [
    "k1"
   ]
  },
  {
   "cell_type": "code",
   "execution_count": 178,
   "id": "aebff7f3-d7cd-46d5-b076-7a2b7feb1018",
   "metadata": {},
   "outputs": [
    {
     "data": {
      "text/plain": [
       "array([1.66666667, 3.33333333])"
      ]
     },
     "execution_count": 178,
     "metadata": {},
     "output_type": "execute_result"
    }
   ],
   "source": [
    "k2"
   ]
  },
  {
   "cell_type": "code",
   "execution_count": 181,
   "id": "3916f901-0a72-49de-a391-e209c12a4e1d",
   "metadata": {},
   "outputs": [
    {
     "data": {
      "text/plain": [
       "array([[-4.        , -1.66666667, -3.33333333]])"
      ]
     },
     "execution_count": 181,
     "metadata": {},
     "output_type": "execute_result"
    }
   ],
   "source": [
    "ackermann_control_gain(system.A_aug, system.B_aug, [-2,-2,-3])"
   ]
  },
  {
   "cell_type": "markdown",
   "id": "396dee5b-c836-4e41-a557-7f3b4de1e240",
   "metadata": {
    "jp-MarkdownHeadingCollapsed": true
   },
   "source": [
    "### Exemplo Livro"
   ]
  },
  {
   "cell_type": "code",
   "execution_count": 182,
   "id": "c4398552-eceb-4dd0-bcd5-460571d3ed0a",
   "metadata": {},
   "outputs": [],
   "source": [
    "A = np.array([[0, 1], [-2, -2]])\n",
    "B = np.array([[0], [1]])\n",
    "C = np.array([[1,0]])\n",
    "D = np.array([[0]])"
   ]
  },
  {
   "cell_type": "code",
   "execution_count": 183,
   "id": "667df8df-7736-40e5-9207-89b8f30ed273",
   "metadata": {},
   "outputs": [],
   "source": [
    "system = ContinousSystemAnalysis(A,B,C,D)"
   ]
  },
  {
   "cell_type": "code",
   "execution_count": 188,
   "id": "8a522baf-4f59-4e2f-a35a-cba6d7e455fb",
   "metadata": {},
   "outputs": [
    {
     "data": {
      "text/plain": [
       "array([[0.],\n",
       "       [0.],\n",
       "       [1.]])"
      ]
     },
     "execution_count": 188,
     "metadata": {},
     "output_type": "execute_result"
    }
   ],
   "source": [
    "system.augment_system()\n",
    "system.A_aug\n",
    "system.B_aug"
   ]
  },
  {
   "cell_type": "code",
   "execution_count": 193,
   "id": "ae062ff5-3e2d-4e8f-b18a-4a28890b5bf3",
   "metadata": {},
   "outputs": [],
   "source": [
    "k1, k2 = system.reference_tracker_gain([-10, -1 + 1j, -1 - 1j])"
   ]
  },
  {
   "cell_type": "code",
   "execution_count": 194,
   "id": "225c5039-9231-4eb3-83e3-c9da1541c42c",
   "metadata": {},
   "outputs": [
    {
     "data": {
      "text/plain": [
       "np.float64(-20.0)"
      ]
     },
     "execution_count": 194,
     "metadata": {},
     "output_type": "execute_result"
    }
   ],
   "source": [
    "k1"
   ]
  },
  {
   "cell_type": "code",
   "execution_count": 195,
   "id": "4d6c960a-b478-4977-a31c-4132f77780dc",
   "metadata": {},
   "outputs": [
    {
     "data": {
      "text/plain": [
       "array([-20., -10.])"
      ]
     },
     "execution_count": 195,
     "metadata": {},
     "output_type": "execute_result"
    }
   ],
   "source": [
    "k2"
   ]
  },
  {
   "cell_type": "code",
   "execution_count": 192,
   "id": "6d5a3108-e3f0-4a9a-8b91-3b02420e0f85",
   "metadata": {},
   "outputs": [
    {
     "data": {
      "text/plain": [
       "array([[-20., -20., -10.]])"
      ]
     },
     "execution_count": 192,
     "metadata": {},
     "output_type": "execute_result"
    }
   ],
   "source": [
    "ackermann_control_gain(system.A_aug, system.B_aug, [-10, -1 + 1j, -1 - 1j])"
   ]
  },
  {
   "cell_type": "code",
   "execution_count": null,
   "id": "88328d5c-ebdd-4e49-90c8-ae315bc520d0",
   "metadata": {},
   "outputs": [],
   "source": []
  }
 ],
 "metadata": {
  "kernelspec": {
   "display_name": "Python 3 (ipykernel)",
   "language": "python",
   "name": "python3"
  },
  "language_info": {
   "codemirror_mode": {
    "name": "ipython",
    "version": 3
   },
   "file_extension": ".py",
   "mimetype": "text/x-python",
   "name": "python",
   "nbconvert_exporter": "python",
   "pygments_lexer": "ipython3",
   "version": "3.12.5"
  }
 },
 "nbformat": 4,
 "nbformat_minor": 5
}
